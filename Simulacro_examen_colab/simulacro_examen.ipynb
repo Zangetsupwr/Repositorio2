{
 "cells": [
  {
   "cell_type": "code",
   "execution_count": 1,
   "id": "5eddc369",
   "metadata": {},
   "outputs": [],
   "source": [
    "import pandas as pd \n",
    "import matplotlib.pyplot as plt"
   ]
  },
  {
   "cell_type": "code",
   "execution_count": 15,
   "id": "b0ddaad0",
   "metadata": {},
   "outputs": [
    {
     "data": {
      "text/html": [
       "<div>\n",
       "<style scoped>\n",
       "    .dataframe tbody tr th:only-of-type {\n",
       "        vertical-align: middle;\n",
       "    }\n",
       "\n",
       "    .dataframe tbody tr th {\n",
       "        vertical-align: top;\n",
       "    }\n",
       "\n",
       "    .dataframe thead th {\n",
       "        text-align: right;\n",
       "    }\n",
       "</style>\n",
       "<table border=\"1\" class=\"dataframe\">\n",
       "  <thead>\n",
       "    <tr style=\"text-align: right;\">\n",
       "      <th></th>\n",
       "      <th>Country</th>\n",
       "      <th>UNICEF Region</th>\n",
       "      <th>Year</th>\n",
       "      <th>Sex</th>\n",
       "      <th>Age</th>\n",
       "      <th>Estimated incidence rate of new HIV infection per 1 000 uninfected population</th>\n",
       "      <th>Estimated number of annual AIDS related deaths</th>\n",
       "      <th>Estimated number of annual new HIV infections</th>\n",
       "      <th>Estimated number of people living with HIV</th>\n",
       "      <th>Estimated rate of annual AIDS related deaths  per 100 000 population</th>\n",
       "    </tr>\n",
       "  </thead>\n",
       "  <tbody>\n",
       "    <tr>\n",
       "      <th>0</th>\n",
       "      <td>Angola</td>\n",
       "      <td>Eastern and Southern Africa</td>\n",
       "      <td>1990</td>\n",
       "      <td>Female</td>\n",
       "      <td>Age 10-19</td>\n",
       "      <td>0.64</td>\n",
       "      <td>100.0</td>\n",
       "      <td>500.0</td>\n",
       "      <td>860</td>\n",
       "      <td>0.36</td>\n",
       "    </tr>\n",
       "    <tr>\n",
       "      <th>1</th>\n",
       "      <td>Angola</td>\n",
       "      <td>Eastern and Southern Africa</td>\n",
       "      <td>1990</td>\n",
       "      <td>Male</td>\n",
       "      <td>Age 10-19</td>\n",
       "      <td>0.15</td>\n",
       "      <td>100.0</td>\n",
       "      <td>100.0</td>\n",
       "      <td>200</td>\n",
       "      <td>0.07</td>\n",
       "    </tr>\n",
       "    <tr>\n",
       "      <th>2</th>\n",
       "      <td>Angola</td>\n",
       "      <td>Eastern and Southern Africa</td>\n",
       "      <td>1991</td>\n",
       "      <td>Female</td>\n",
       "      <td>Age 10-19</td>\n",
       "      <td>0.75</td>\n",
       "      <td>100.0</td>\n",
       "      <td>500.0</td>\n",
       "      <td>1100</td>\n",
       "      <td>0.42</td>\n",
       "    </tr>\n",
       "    <tr>\n",
       "      <th>3</th>\n",
       "      <td>Angola</td>\n",
       "      <td>Eastern and Southern Africa</td>\n",
       "      <td>1991</td>\n",
       "      <td>Male</td>\n",
       "      <td>Age 10-19</td>\n",
       "      <td>0.17</td>\n",
       "      <td>100.0</td>\n",
       "      <td>200.0</td>\n",
       "      <td>500</td>\n",
       "      <td>0.14</td>\n",
       "    </tr>\n",
       "    <tr>\n",
       "      <th>4</th>\n",
       "      <td>Angola</td>\n",
       "      <td>Eastern and Southern Africa</td>\n",
       "      <td>1992</td>\n",
       "      <td>Female</td>\n",
       "      <td>Age 10-19</td>\n",
       "      <td>0.88</td>\n",
       "      <td>100.0</td>\n",
       "      <td>590.0</td>\n",
       "      <td>1300</td>\n",
       "      <td>0.54</td>\n",
       "    </tr>\n",
       "    <tr>\n",
       "      <th>...</th>\n",
       "      <td>...</td>\n",
       "      <td>...</td>\n",
       "      <td>...</td>\n",
       "      <td>...</td>\n",
       "      <td>...</td>\n",
       "      <td>...</td>\n",
       "      <td>...</td>\n",
       "      <td>...</td>\n",
       "      <td>...</td>\n",
       "      <td>...</td>\n",
       "    </tr>\n",
       "    <tr>\n",
       "      <th>2637</th>\n",
       "      <td>Zimbabwe</td>\n",
       "      <td>Eastern and Southern Africa</td>\n",
       "      <td>2017</td>\n",
       "      <td>Male</td>\n",
       "      <td>Age 10-19</td>\n",
       "      <td>NaN</td>\n",
       "      <td>900.0</td>\n",
       "      <td>1200.0</td>\n",
       "      <td>37000</td>\n",
       "      <td>57.28</td>\n",
       "    </tr>\n",
       "    <tr>\n",
       "      <th>2638</th>\n",
       "      <td>Zimbabwe</td>\n",
       "      <td>Eastern and Southern Africa</td>\n",
       "      <td>2018</td>\n",
       "      <td>Female</td>\n",
       "      <td>Age 10-19</td>\n",
       "      <td>6.05</td>\n",
       "      <td>770.0</td>\n",
       "      <td>4400.0</td>\n",
       "      <td>48000</td>\n",
       "      <td>48.39</td>\n",
       "    </tr>\n",
       "    <tr>\n",
       "      <th>2639</th>\n",
       "      <td>Zimbabwe</td>\n",
       "      <td>Eastern and Southern Africa</td>\n",
       "      <td>2018</td>\n",
       "      <td>Male</td>\n",
       "      <td>Age 10-19</td>\n",
       "      <td>NaN</td>\n",
       "      <td>800.0</td>\n",
       "      <td>1100.0</td>\n",
       "      <td>37000</td>\n",
       "      <td>49.97</td>\n",
       "    </tr>\n",
       "    <tr>\n",
       "      <th>2640</th>\n",
       "      <td>Zimbabwe</td>\n",
       "      <td>Eastern and Southern Africa</td>\n",
       "      <td>2019</td>\n",
       "      <td>Female</td>\n",
       "      <td>Age 10-19</td>\n",
       "      <td>5.99</td>\n",
       "      <td>690.0</td>\n",
       "      <td>4400.0</td>\n",
       "      <td>48000</td>\n",
       "      <td>42.18</td>\n",
       "    </tr>\n",
       "    <tr>\n",
       "      <th>2641</th>\n",
       "      <td>Zimbabwe</td>\n",
       "      <td>Eastern and Southern Africa</td>\n",
       "      <td>2019</td>\n",
       "      <td>Male</td>\n",
       "      <td>Age 10-19</td>\n",
       "      <td>1.43</td>\n",
       "      <td>730.0</td>\n",
       "      <td>1100.0</td>\n",
       "      <td>37000</td>\n",
       "      <td>44.57</td>\n",
       "    </tr>\n",
       "  </tbody>\n",
       "</table>\n",
       "<p>2642 rows × 10 columns</p>\n",
       "</div>"
      ],
      "text/plain": [
       "       Country                UNICEF Region  Year     Sex        Age  \\\n",
       "0       Angola  Eastern and Southern Africa  1990  Female  Age 10-19   \n",
       "1       Angola  Eastern and Southern Africa  1990    Male  Age 10-19   \n",
       "2       Angola  Eastern and Southern Africa  1991  Female  Age 10-19   \n",
       "3       Angola  Eastern and Southern Africa  1991    Male  Age 10-19   \n",
       "4       Angola  Eastern and Southern Africa  1992  Female  Age 10-19   \n",
       "...        ...                          ...   ...     ...        ...   \n",
       "2637  Zimbabwe  Eastern and Southern Africa  2017    Male  Age 10-19   \n",
       "2638  Zimbabwe  Eastern and Southern Africa  2018  Female  Age 10-19   \n",
       "2639  Zimbabwe  Eastern and Southern Africa  2018    Male  Age 10-19   \n",
       "2640  Zimbabwe  Eastern and Southern Africa  2019  Female  Age 10-19   \n",
       "2641  Zimbabwe  Eastern and Southern Africa  2019    Male  Age 10-19   \n",
       "\n",
       "                Estimated incidence rate of new HIV infection per 1 000 uninfected population   \\\n",
       "0                                                  0.64                                          \n",
       "1                                                  0.15                                          \n",
       "2                                                  0.75                                          \n",
       "3                                                  0.17                                          \n",
       "4                                                  0.88                                          \n",
       "...                                                 ...                                          \n",
       "2637                                                NaN                                          \n",
       "2638                                               6.05                                          \n",
       "2639                                                NaN                                          \n",
       "2640                                               5.99                                          \n",
       "2641                                               1.43                                          \n",
       "\n",
       "      Estimated number of annual AIDS related deaths  \\\n",
       "0                                              100.0   \n",
       "1                                              100.0   \n",
       "2                                              100.0   \n",
       "3                                              100.0   \n",
       "4                                              100.0   \n",
       "...                                              ...   \n",
       "2637                                           900.0   \n",
       "2638                                           770.0   \n",
       "2639                                           800.0   \n",
       "2640                                           690.0   \n",
       "2641                                           730.0   \n",
       "\n",
       "      Estimated number of annual new HIV infections  \\\n",
       "0                                             500.0   \n",
       "1                                             100.0   \n",
       "2                                             500.0   \n",
       "3                                             200.0   \n",
       "4                                             590.0   \n",
       "...                                             ...   \n",
       "2637                                         1200.0   \n",
       "2638                                         4400.0   \n",
       "2639                                         1100.0   \n",
       "2640                                         4400.0   \n",
       "2641                                         1100.0   \n",
       "\n",
       "      Estimated number of people living with HIV  \\\n",
       "0                                            860   \n",
       "1                                            200   \n",
       "2                                           1100   \n",
       "3                                            500   \n",
       "4                                           1300   \n",
       "...                                          ...   \n",
       "2637                                       37000   \n",
       "2638                                       48000   \n",
       "2639                                       37000   \n",
       "2640                                       48000   \n",
       "2641                                       37000   \n",
       "\n",
       "      Estimated rate of annual AIDS related deaths  per 100 000 population   \n",
       "0                                                  0.36                      \n",
       "1                                                  0.07                      \n",
       "2                                                  0.42                      \n",
       "3                                                  0.14                      \n",
       "4                                                  0.54                      \n",
       "...                                                 ...                      \n",
       "2637                                              57.28                      \n",
       "2638                                              48.39                      \n",
       "2639                                              49.97                      \n",
       "2640                                              42.18                      \n",
       "2641                                              44.57                      \n",
       "\n",
       "[2642 rows x 10 columns]"
      ]
     },
     "execution_count": 15,
     "metadata": {},
     "output_type": "execute_result"
    }
   ],
   "source": [
    "path = \"Clase 13 - examen simulacro.csv\"\n",
    "df_1 = pd.read_csv(path,encoding='latin1',sep=';')\n",
    "df_1\n"
   ]
  },
  {
   "cell_type": "code",
   "execution_count": 17,
   "id": "7e3e4f37",
   "metadata": {},
   "outputs": [
    {
     "name": "stdout",
     "output_type": "stream",
     "text": [
      "<class 'pandas.core.frame.DataFrame'>\n",
      "RangeIndex: 2642 entries, 0 to 2641\n",
      "Data columns (total 10 columns):\n",
      " #   Column                                                                                    Non-Null Count  Dtype  \n",
      "---  ------                                                                                    --------------  -----  \n",
      " 0   Country                                                                                   2642 non-null   object \n",
      " 1   UNICEF Region                                                                             2574 non-null   object \n",
      " 2   Year                                                                                      2642 non-null   int64  \n",
      " 3   Sex                                                                                       2642 non-null   object \n",
      " 4   Age                                                                                       2641 non-null   object \n",
      " 5             Estimated incidence rate of new HIV infection per 1 000 uninfected population   2520 non-null   float64\n",
      " 6   Estimated number of annual AIDS related deaths                                            2582 non-null   float64\n",
      " 7   Estimated number of annual new HIV infections                                             2520 non-null   float64\n",
      " 8   Estimated number of people living with HIV                                                2642 non-null   int64  \n",
      " 9   Estimated rate of annual AIDS related deaths  per 100 000 population                      2582 non-null   float64\n",
      "dtypes: float64(4), int64(2), object(4)\n",
      "memory usage: 206.5+ KB\n"
     ]
    }
   ],
   "source": [
    "# verificar si existen valores nulos en la tabla\n",
    "df_1.info()"
   ]
  },
  {
   "cell_type": "code",
   "execution_count": 18,
   "id": "0ee73a8c",
   "metadata": {},
   "outputs": [
    {
     "data": {
      "text/plain": [
       "np.int64(68)"
      ]
     },
     "execution_count": 18,
     "metadata": {},
     "output_type": "execute_result"
    }
   ],
   "source": [
    "# Reviso la columa UNICEF Region si hay valores nulos\n",
    "df_1['UNICEF Region'].isnull().sum()"
   ]
  },
  {
   "cell_type": "code",
   "execution_count": 19,
   "id": "52cac738",
   "metadata": {},
   "outputs": [
    {
     "data": {
      "text/plain": [
       "array(['Eastern and Southern Africa', 'West and Central Africa', nan],\n",
       "      dtype=object)"
      ]
     },
     "execution_count": 19,
     "metadata": {},
     "output_type": "execute_result"
    }
   ],
   "source": [
    "# Revisar la misma columna para ver los valores únicos\n",
    "df_1['UNICEF Region'].unique()"
   ]
  },
  {
   "cell_type": "code",
   "execution_count": 22,
   "id": "98a0cabd",
   "metadata": {},
   "outputs": [],
   "source": [
    "# Relleno de datos vacios \n",
    "dict = {\n",
    "    \"Central African Republic\": \"West and Central Africa\",\n",
    "    \"Cameroon\":\"Weest and Central Africa\",\n",
    "    \"Congo\": \"west and Central Africa\",\n",
    "    \"Eritrea\": \"Eastern and Southern Africa\"\n",
    "}\n",
    "# rellenar los datos vacios con el valor del diccionario creado\n",
    "df_1['UNICEF Region'] = df_1['UNICEF Region'].fillna(df_1['Country'].map(dict))"
   ]
  },
  {
   "cell_type": "code",
   "execution_count": 23,
   "id": "930a0504",
   "metadata": {},
   "outputs": [
    {
     "name": "stdout",
     "output_type": "stream",
     "text": [
      "<class 'pandas.core.frame.DataFrame'>\n",
      "RangeIndex: 2642 entries, 0 to 2641\n",
      "Data columns (total 10 columns):\n",
      " #   Column                                                                                    Non-Null Count  Dtype  \n",
      "---  ------                                                                                    --------------  -----  \n",
      " 0   Country                                                                                   2642 non-null   object \n",
      " 1   UNICEF Region                                                                             2642 non-null   object \n",
      " 2   Year                                                                                      2642 non-null   int64  \n",
      " 3   Sex                                                                                       2642 non-null   object \n",
      " 4   Age                                                                                       2641 non-null   object \n",
      " 5             Estimated incidence rate of new HIV infection per 1 000 uninfected population   2520 non-null   float64\n",
      " 6   Estimated number of annual AIDS related deaths                                            2582 non-null   float64\n",
      " 7   Estimated number of annual new HIV infections                                             2520 non-null   float64\n",
      " 8   Estimated number of people living with HIV                                                2642 non-null   int64  \n",
      " 9   Estimated rate of annual AIDS related deaths  per 100 000 population                      2582 non-null   float64\n",
      "dtypes: float64(4), int64(2), object(4)\n",
      "memory usage: 206.5+ KB\n"
     ]
    }
   ],
   "source": [
    "# verificamos \n",
    "df_1.info()"
   ]
  },
  {
   "cell_type": "code",
   "execution_count": 30,
   "id": "02d68ec5",
   "metadata": {},
   "outputs": [
    {
     "name": "stdout",
     "output_type": "stream",
     "text": [
      "<class 'pandas.core.frame.DataFrame'>\n",
      "RangeIndex: 2642 entries, 0 to 2641\n",
      "Data columns (total 10 columns):\n",
      " #   Column                                                                                    Non-Null Count  Dtype  \n",
      "---  ------                                                                                    --------------  -----  \n",
      " 0   Country                                                                                   2642 non-null   object \n",
      " 1   UNICEF Region                                                                             2642 non-null   object \n",
      " 2   Year                                                                                      2642 non-null   int64  \n",
      " 3   Sex                                                                                       2642 non-null   object \n",
      " 4   Age                                                                                       2642 non-null   object \n",
      " 5             Estimated incidence rate of new HIV infection per 1 000 uninfected population   2520 non-null   float64\n",
      " 6   Estimated number of annual AIDS related deaths                                            2582 non-null   float64\n",
      " 7   Estimated number of annual new HIV infections                                             2520 non-null   float64\n",
      " 8   Estimated number of people living with HIV                                                2642 non-null   int64  \n",
      " 9   Estimated rate of annual AIDS related deaths  per 100 000 population                      2582 non-null   float64\n",
      "dtypes: float64(4), int64(2), object(4)\n",
      "memory usage: 206.5+ KB\n"
     ]
    }
   ],
   "source": [
    "# Rellenar  el dato faltante de la columna \"Age\" del pais \"Djibouni\"\n",
    "df_1.loc[df_1['Country'] == 'Djibouti', 'Age'] = 10-19\n",
    "df_1.info()"
   ]
  },
  {
   "cell_type": "code",
   "execution_count": 36,
   "id": "ebb83444",
   "metadata": {},
   "outputs": [
    {
     "name": "stdout",
     "output_type": "stream",
     "text": [
      "<class 'pandas.core.frame.DataFrame'>\n",
      "RangeIndex: 2642 entries, 0 to 2641\n",
      "Data columns (total 10 columns):\n",
      " #   Column                                                                         Non-Null Count  Dtype  \n",
      "---  ------                                                                         --------------  -----  \n",
      " 0   Country                                                                        2642 non-null   object \n",
      " 1   UNICEF Region                                                                  2642 non-null   object \n",
      " 2   Year                                                                           2642 non-null   int64  \n",
      " 3   Sex                                                                            2642 non-null   object \n",
      " 4   Age                                                                            2642 non-null   object \n",
      " 5   Estimated incidence rate of new HIV infection per 1 000 uninfected population  2520 non-null   float64\n",
      " 6   Estimated number of annual AIDS related deaths                                 2582 non-null   float64\n",
      " 7   Estimated number of annual new HIV infections                                  2520 non-null   float64\n",
      " 8   Estimated number of people living with HIV                                     2642 non-null   int64  \n",
      " 9   Estimated rate of annual AIDS related deaths  per 100 000 population           2582 non-null   float64\n",
      "dtypes: float64(4), int64(2), object(4)\n",
      "memory usage: 206.5+ KB\n"
     ]
    }
   ],
   "source": [
    "df_1.columns = df_1.columns.str.strip()\n",
    "df_1.info()"
   ]
  },
  {
   "cell_type": "code",
   "execution_count": null,
   "id": "1ad5f199",
   "metadata": {},
   "outputs": [
    {
     "name": "stdout",
     "output_type": "stream",
     "text": [
      "<class 'pandas.core.frame.DataFrame'>\n",
      "RangeIndex: 2642 entries, 0 to 2641\n",
      "Data columns (total 10 columns):\n",
      " #   Column                                                                         Non-Null Count  Dtype  \n",
      "---  ------                                                                         --------------  -----  \n",
      " 0   Country                                                                        2642 non-null   object \n",
      " 1   UNICEF Region                                                                  2642 non-null   object \n",
      " 2   Year                                                                           2642 non-null   int64  \n",
      " 3   Sex                                                                            2642 non-null   object \n",
      " 4   Age                                                                            2642 non-null   object \n",
      " 5   Estimated incidence rate of new HIV infection per 1 000 uninfected population  2580 non-null   float64\n",
      " 6   Estimated number of annual AIDS related deaths                                 2582 non-null   float64\n",
      " 7   Estimated number of annual new HIV infections                                  2520 non-null   float64\n",
      " 8   Estimated number of people living with HIV                                     2642 non-null   int64  \n",
      " 9   Estimated rate of annual AIDS related deaths  per 100 000 population           2582 non-null   float64\n",
      "dtypes: float64(4), int64(2), object(4)\n",
      "memory usage: 206.5+ KB\n"
     ]
    }
   ],
   "source": [
    "# De acuerdo a la informacion de mali desde el año 1990 - 2017, el valor de la incidencia del VIH en Mali es 0.17 % por cada 1000 personas infectadas\n",
    "df_1.loc[\n",
    "    (df_1['Country'] == 'Mali') &\n",
    "    (df_1['Estimated incidence rate of new HIV infection per 1 000 uninfected population'].isna()),\n",
    "    'Estimated incidence rate of new HIV infection per 1 000 uninfected population'\n",
    "] = 0.17\n",
    "df_1.info()"
   ]
  },
  {
   "cell_type": "code",
   "execution_count": 43,
   "id": "d92e2d1f",
   "metadata": {},
   "outputs": [
    {
     "name": "stdout",
     "output_type": "stream",
     "text": [
      "<class 'pandas.core.frame.DataFrame'>\n",
      "RangeIndex: 2642 entries, 0 to 2641\n",
      "Data columns (total 10 columns):\n",
      " #   Column                                                                         Non-Null Count  Dtype  \n",
      "---  ------                                                                         --------------  -----  \n",
      " 0   Country                                                                        2642 non-null   object \n",
      " 1   UNICEF Region                                                                  2642 non-null   object \n",
      " 2   Year                                                                           2642 non-null   int64  \n",
      " 3   Sex                                                                            2642 non-null   object \n",
      " 4   Age                                                                            2642 non-null   object \n",
      " 5   Estimated incidence rate of new HIV infection per 1 000 uninfected population  2640 non-null   float64\n",
      " 6   Estimated number of annual AIDS related deaths                                 2582 non-null   float64\n",
      " 7   Estimated number of annual new HIV infections                                  2520 non-null   float64\n",
      " 8   Estimated number of people living with HIV                                     2642 non-null   int64  \n",
      " 9   Estimated rate of annual AIDS related deaths  per 100 000 population           2582 non-null   float64\n",
      "dtypes: float64(4), int64(2), object(4)\n",
      "memory usage: 206.5+ KB\n"
     ]
    }
   ],
   "source": [
    "# De acuerdo a la informacion de mauritania desde el año 1990 - 2017, el valor de la incidencia del VIH en Mali es 0.6 % ppor cada 1000 personas  infectadas\n",
    "df_1.loc[\n",
    "    (df_1['Country'] == 'Mauritania') &\n",
    "    (df_1['Estimated incidence rate of new HIV infection per 1 000 uninfected population'].isna()),\n",
    "    'Estimated incidence rate of new HIV infection per 1 000 uninfected population'\n",
    "] = 0.6\n",
    "df_1.info()"
   ]
  },
  {
   "cell_type": "code",
   "execution_count": 45,
   "id": "43e2d6a0",
   "metadata": {},
   "outputs": [
    {
     "name": "stdout",
     "output_type": "stream",
     "text": [
      "<class 'pandas.core.frame.DataFrame'>\n",
      "RangeIndex: 2642 entries, 0 to 2641\n",
      "Data columns (total 10 columns):\n",
      " #   Column                                                                         Non-Null Count  Dtype  \n",
      "---  ------                                                                         --------------  -----  \n",
      " 0   Country                                                                        2642 non-null   object \n",
      " 1   UNICEF Region                                                                  2642 non-null   object \n",
      " 2   Year                                                                           2642 non-null   int64  \n",
      " 3   Sex                                                                            2642 non-null   object \n",
      " 4   Age                                                                            2642 non-null   object \n",
      " 5   Estimated incidence rate of new HIV infection per 1 000 uninfected population  2642 non-null   float64\n",
      " 6   Estimated number of annual AIDS related deaths                                 2582 non-null   float64\n",
      " 7   Estimated number of annual new HIV infections                                  2520 non-null   float64\n",
      " 8   Estimated number of people living with HIV                                     2642 non-null   int64  \n",
      " 9   Estimated rate of annual AIDS related deaths  per 100 000 population           2582 non-null   float64\n",
      "dtypes: float64(4), int64(2), object(4)\n",
      "memory usage: 206.5+ KB\n"
     ]
    }
   ],
   "source": [
    "# De acuerdo a la informacion de zimbabwe desde el año  2017-2018, el valor de la incidencia del VIH en Mali es 12.5 % ppor cada 1000 personas  infectadas\n",
    "df_1.loc[\n",
    "    (df_1['Country'] == 'Zimbabwe') &\n",
    "    (df_1['Estimated incidence rate of new HIV infection per 1 000 uninfected population'].isna()),\n",
    "    'Estimated incidence rate of new HIV infection per 1 000 uninfected population'\n",
    "] = 12.5\n",
    "\n",
    "df_1.info()"
   ]
  },
  {
   "cell_type": "code",
   "execution_count": 47,
   "id": "d6f9ceba",
   "metadata": {},
   "outputs": [
    {
     "name": "stdout",
     "output_type": "stream",
     "text": [
      "<class 'pandas.core.frame.DataFrame'>\n",
      "RangeIndex: 2642 entries, 0 to 2641\n",
      "Data columns (total 10 columns):\n",
      " #   Column                                                                         Non-Null Count  Dtype  \n",
      "---  ------                                                                         --------------  -----  \n",
      " 0   Country                                                                        2642 non-null   object \n",
      " 1   UNICEF Region                                                                  2642 non-null   object \n",
      " 2   Year                                                                           2642 non-null   int64  \n",
      " 3   Sex                                                                            2642 non-null   object \n",
      " 4   Age                                                                            2642 non-null   object \n",
      " 5   Estimated incidence rate of new HIV infection per 1 000 uninfected population  2642 non-null   float64\n",
      " 6   Estimated number of annual AIDS related deaths                                 2642 non-null   float64\n",
      " 7   Estimated number of annual new HIV infections                                  2520 non-null   float64\n",
      " 8   Estimated number of people living with HIV                                     2642 non-null   int64  \n",
      " 9   Estimated rate of annual AIDS related deaths  per 100 000 population           2582 non-null   float64\n",
      "dtypes: float64(4), int64(2), object(4)\n",
      "memory usage: 206.5+ KB\n"
     ]
    }
   ],
   "source": [
    "df_1.loc[\n",
    "    (df_1['Country'] == 'Mauritius') &\n",
    "    (df_1['Estimated number of annual AIDS related deaths'].isna()),\n",
    "    'Estimated number of annual AIDS related deaths'\n",
    "] = 1.7\n",
    "\n",
    "df_1.info()"
   ]
  },
  {
   "cell_type": "code",
   "execution_count": 54,
   "id": "190138b3",
   "metadata": {},
   "outputs": [
    {
     "name": "stdout",
     "output_type": "stream",
     "text": [
      "<class 'pandas.core.frame.DataFrame'>\n",
      "RangeIndex: 2642 entries, 0 to 2641\n",
      "Data columns (total 10 columns):\n",
      " #   Column                                                                         Non-Null Count  Dtype  \n",
      "---  ------                                                                         --------------  -----  \n",
      " 0   Country                                                                        2642 non-null   object \n",
      " 1   UNICEF Region                                                                  2642 non-null   object \n",
      " 2   Year                                                                           2642 non-null   int64  \n",
      " 3   Sex                                                                            2642 non-null   object \n",
      " 4   Age                                                                            2642 non-null   object \n",
      " 5   Estimated incidence rate of new HIV infection per 1 000 uninfected population  2642 non-null   float64\n",
      " 6   Estimated number of annual AIDS related deaths                                 2642 non-null   float64\n",
      " 7   Estimated number of annual new HIV infections                                  2580 non-null   float64\n",
      " 8   Estimated number of people living with HIV                                     2642 non-null   int64  \n",
      " 9   Estimated rate of annual AIDS related deaths  per 100 000 population           2582 non-null   float64\n",
      "dtypes: float64(4), int64(2), object(4)\n",
      "memory usage: 206.5+ KB\n"
     ]
    }
   ],
   "source": [
    "# Rellenar datos de la columna Estimated number of annual new HIV infections  de mali\n",
    "df_1.loc[\n",
    "    (df_1['Country'] == 'Mali') &\n",
    "    (df_1['Estimated number of annual new HIV infections'].isna()),\n",
    "    'Estimated number of annual new HIV infections'\n",
    "] = 0.9\n",
    "\n",
    "df_1.info()\n",
    "\n",
    "\n"
   ]
  },
  {
   "cell_type": "code",
   "execution_count": null,
   "id": "0e126214",
   "metadata": {},
   "outputs": [
    {
     "name": "stdout",
     "output_type": "stream",
     "text": [
      "<class 'pandas.core.frame.DataFrame'>\n",
      "RangeIndex: 2642 entries, 0 to 2641\n",
      "Data columns (total 10 columns):\n",
      " #   Column                                                                         Non-Null Count  Dtype  \n",
      "---  ------                                                                         --------------  -----  \n",
      " 0   Country                                                                        2642 non-null   object \n",
      " 1   UNICEF Region                                                                  2642 non-null   object \n",
      " 2   Year                                                                           2642 non-null   int64  \n",
      " 3   Sex                                                                            2642 non-null   object \n",
      " 4   Age                                                                            2642 non-null   object \n",
      " 5   Estimated incidence rate of new HIV infection per 1 000 uninfected population  2642 non-null   float64\n",
      " 6   Estimated number of annual AIDS related deaths                                 2642 non-null   float64\n",
      " 7   Estimated number of annual new HIV infections                                  2640 non-null   float64\n",
      " 8   Estimated number of people living with HIV                                     2642 non-null   int64  \n",
      " 9   Estimated rate of annual AIDS related deaths  per 100 000 population           2582 non-null   float64\n",
      "dtypes: float64(4), int64(2), object(4)\n",
      "memory usage: 206.5+ KB\n"
     ]
    }
   ],
   "source": [
    "# Rellenar datos de la columna Estimated number of annual new HIV infections  de mali\n",
    "df_1.loc[\n",
    "    (df_1['Country'] == 'Mauritania') &\n",
    "    (df_1['Estimated number of annual new HIV infections'].isna()),\n",
    "    'Estimated number of annual new HIV infections'\n",
    "] = 0.3\n",
    "\n",
    "df_1.info()"
   ]
  },
  {
   "cell_type": "code",
   "execution_count": null,
   "id": "09cdeb87",
   "metadata": {},
   "outputs": [
    {
     "name": "stdout",
     "output_type": "stream",
     "text": [
      "<class 'pandas.core.frame.DataFrame'>\n",
      "RangeIndex: 2642 entries, 0 to 2641\n",
      "Data columns (total 10 columns):\n",
      " #   Column                                                                         Non-Null Count  Dtype  \n",
      "---  ------                                                                         --------------  -----  \n",
      " 0   Country                                                                        2642 non-null   object \n",
      " 1   UNICEF Region                                                                  2642 non-null   object \n",
      " 2   Year                                                                           2642 non-null   int64  \n",
      " 3   Sex                                                                            2642 non-null   object \n",
      " 4   Age                                                                            2642 non-null   object \n",
      " 5   Estimated incidence rate of new HIV infection per 1 000 uninfected population  2642 non-null   float64\n",
      " 6   Estimated number of annual AIDS related deaths                                 2642 non-null   float64\n",
      " 7   Estimated number of annual new HIV infections                                  2642 non-null   float64\n",
      " 8   Estimated number of people living with HIV                                     2642 non-null   int64  \n",
      " 9   Estimated rate of annual AIDS related deaths  per 100 000 population           2582 non-null   float64\n",
      "dtypes: float64(4), int64(2), object(4)\n",
      "memory usage: 206.5+ KB\n"
     ]
    }
   ],
   "source": [
    "# Rellenar datos de la columna Estimated number of annual new HIV infections  de zimbabwe\n",
    "\n",
    "df_1.loc[\n",
    "    (df_1['Country'] == 'Kenya') &\n",
    "    (df_1['Estimated number of annual new HIV infections'].isna()),\n",
    "    'Estimated number of annual new HIV infections'\n",
    "] = 3.7\n",
    "\n",
    "df_1.info()"
   ]
  },
  {
   "cell_type": "code",
   "execution_count": null,
   "id": "c7722c17",
   "metadata": {},
   "outputs": [
    {
     "name": "stdout",
     "output_type": "stream",
     "text": [
      "<class 'pandas.core.frame.DataFrame'>\n",
      "RangeIndex: 2642 entries, 0 to 2641\n",
      "Data columns (total 10 columns):\n",
      " #   Column                                                                         Non-Null Count  Dtype  \n",
      "---  ------                                                                         --------------  -----  \n",
      " 0   Country                                                                        2642 non-null   object \n",
      " 1   UNICEF Region                                                                  2642 non-null   object \n",
      " 2   Year                                                                           2642 non-null   int64  \n",
      " 3   Sex                                                                            2642 non-null   object \n",
      " 4   Age                                                                            2642 non-null   object \n",
      " 5   Estimated incidence rate of new HIV infection per 1 000 uninfected population  2642 non-null   float64\n",
      " 6   Estimated number of annual AIDS related deaths                                 2642 non-null   float64\n",
      " 7   Estimated number of annual new HIV infections                                  2642 non-null   float64\n",
      " 8   Estimated number of people living with HIV                                     2642 non-null   int64  \n",
      " 9   Estimated rate of annual AIDS related deaths  per 100 000 population           2642 non-null   float64\n",
      "dtypes: float64(4), int64(2), object(4)\n",
      "memory usage: 206.5+ KB\n"
     ]
    }
   ],
   "source": [
    "#Rellenar datos de la columna Estimated rate of annual AIDS related deaths  per 100 000 population de mali\n",
    "\n",
    "df_1.loc[\n",
    "    (df_1['Country'] == 'Mauritius') &\n",
    "    (df_1['Estimated rate of annual AIDS related deaths  per 100 000 population'].isna()),\n",
    "    'Estimated rate of annual AIDS related deaths  per 100 000 population'\n",
    "] = 9.81\n",
    "\n",
    "df_1.info()"
   ]
  },
  {
   "cell_type": "code",
   "execution_count": 87,
   "id": "e6ec2e2c",
   "metadata": {},
   "outputs": [
    {
     "data": {
      "image/png": "[encoded data removed]",
      "text/plain": [
       "<Figure size 640x480 with 1 Axes>"
      ]
     },
     "metadata": {},
     "output_type": "display_data"
    }
   ],
   "source": [
    "# El contagio de VIH afecta más a hombres o mujeres? Acompaña tu analisis de almenos un grafico y explicar\n",
    "df_1.groupby(\"Sex\")[\"Estimated number of people living with HIV\"].sum().plot(kind='bar', color=['blue', 'pink'])\n",
    "plt.title(\"Estadisticas de VIH por sexo en africa\")\n",
    "plt.ylabel(\" Numero estimado de personas viviendo con VIH\")\n",
    "plt.xlabel(\"Sexo\")\n",
    "plt.show()\n",
    "\n"
   ]
  },
  {
   "cell_type": "code",
   "execution_count": 91,
   "id": "c012f2fc",
   "metadata": {},
   "outputs": [
    {
     "data": {
      "image/png": "[encoded data removed]",
      "text/plain": [
       "<Figure size 640x480 with 1 Axes>"
      ]
     },
     "metadata": {},
     "output_type": "display_data"
    }
   ],
   "source": [
    "# Los contagios y muertes han venido creciendo o disminuyendo con los años?\n",
    "average_aids_deaths = df_1[\"Estimated number of annual AIDS related deaths\"].mean()\n",
    "average_hiv_infections = df_1[\"Estimated number of annual new HIV infections\"].mean()\n",
    "\n",
    "plt.bar(['AIDS related deaths', 'HIV infections'], [average_aids_deaths, average_hiv_infections], color=['red', 'green'])\n",
    "plt.title(\"Promedio de muertes relacionadas con el SIDA y nuevas infecciones por VIH\")\n",
    "plt.ylabel(\"Número de muertes\")\n",
    "plt.xlabel(\"Tipo de enfermedad\")\n",
    "plt.show()\n",
    "\n"
   ]
  }
 ],
 "metadata": {
  "kernelspec": {
   "display_name": "myenv",
   "language": "python",
   "name": "python3"
  },
  "language_info": {
   "codemirror_mode": {
    "name": "ipython",
    "version": 3
   },
   "file_extension": ".py",
   "mimetype": "text/x-python",
   "name": "python",
   "nbconvert_exporter": "python",
   "pygments_lexer": "ipython3",
   "version": "3.12.8"
  }
 },
 "nbformat": 4,
 "nbformat_minor": 5
}
